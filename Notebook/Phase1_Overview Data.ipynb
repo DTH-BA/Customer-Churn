{
 "cells": [
  {
   "cell_type": "code",
   "execution_count": 1,
   "id": "72e3fa30-3fee-4643-9166-9d4c89529a9f",
   "metadata": {},
   "outputs": [],
   "source": [
    "import pandas as pd\n",
    "import warnings\n",
    "warnings.filterwarnings('ignore')"
   ]
  },
  {
   "cell_type": "code",
   "execution_count": 2,
   "id": "ced5ce14-fd2a-4a97-8c1f-2d886685853e",
   "metadata": {},
   "outputs": [
    {
     "name": "stdout",
     "output_type": "stream",
     "text": [
      "   Churn  AccountWeeks  ContractRenewal  DataPlan  DataUsage  CustServCalls  \\\n",
      "0      0           128                1         1        2.7              1   \n",
      "1      0           107                1         1        3.7              1   \n",
      "2      0           137                1         0        0.0              0   \n",
      "3      0            84                0         0        0.0              2   \n",
      "4      0            75                0         0        0.0              3   \n",
      "\n",
      "   DayMins  DayCalls  MonthlyCharge  OverageFee  RoamMins  \n",
      "0    265.1       110           89.0        9.87      10.0  \n",
      "1      NaN       123            NaN        9.78      13.7  \n",
      "2    243.4       114           52.0        6.06      12.2  \n",
      "3    299.4        71           57.0        3.10       6.6  \n",
      "4    166.7       113           41.0        7.42      10.1  \n"
     ]
    }
   ],
   "source": [
    "df= pd.read_csv(r'C:\\Users\\theha\\OneDrive\\Desktop\\Projects\\3. Customer Churn\\Dataset\\telecom_churn_dirty.csv')\n",
    "print(df.head())"
   ]
  },
  {
   "cell_type": "code",
   "execution_count": 3,
   "id": "060aa982-9e38-49d3-8d59-b1aeb5fb0f61",
   "metadata": {},
   "outputs": [
    {
     "name": "stdout",
     "output_type": "stream",
     "text": [
      "Dataset Shape (3343, 11)\n"
     ]
    }
   ],
   "source": [
    "print(\"Dataset Shape\", df.shape)"
   ]
  },
  {
   "cell_type": "code",
   "execution_count": 4,
   "id": "46c685b8-9358-46a4-9e22-e56086130fd3",
   "metadata": {},
   "outputs": [
    {
     "name": "stdout",
     "output_type": "stream",
     "text": [
      "<class 'pandas.core.frame.DataFrame'>\n",
      "RangeIndex: 3343 entries, 0 to 3342\n",
      "Data columns (total 11 columns):\n",
      " #   Column           Non-Null Count  Dtype  \n",
      "---  ------           --------------  -----  \n",
      " 0   Churn            3343 non-null   int64  \n",
      " 1   AccountWeeks     3343 non-null   int64  \n",
      " 2   ContractRenewal  3343 non-null   int64  \n",
      " 3   DataPlan         3343 non-null   int64  \n",
      " 4   DataUsage        3166 non-null   float64\n",
      " 5   CustServCalls    3343 non-null   int64  \n",
      " 6   DayMins          3174 non-null   float64\n",
      " 7   DayCalls         3343 non-null   int64  \n",
      " 8   MonthlyCharge    3175 non-null   float64\n",
      " 9   OverageFee       3343 non-null   float64\n",
      " 10  RoamMins         3343 non-null   float64\n",
      "dtypes: float64(5), int64(6)\n",
      "memory usage: 287.4 KB\n"
     ]
    }
   ],
   "source": [
    "df.info()"
   ]
  },
  {
   "cell_type": "code",
   "execution_count": 5,
   "id": "fbc70f36-f8af-48eb-b211-ef71d1c3c73a",
   "metadata": {},
   "outputs": [
    {
     "data": {
      "text/html": [
       "<div>\n",
       "<style scoped>\n",
       "    .dataframe tbody tr th:only-of-type {\n",
       "        vertical-align: middle;\n",
       "    }\n",
       "\n",
       "    .dataframe tbody tr th {\n",
       "        vertical-align: top;\n",
       "    }\n",
       "\n",
       "    .dataframe thead th {\n",
       "        text-align: right;\n",
       "    }\n",
       "</style>\n",
       "<table border=\"1\" class=\"dataframe\">\n",
       "  <thead>\n",
       "    <tr style=\"text-align: right;\">\n",
       "      <th></th>\n",
       "      <th>AccountWeeks</th>\n",
       "      <th>DataUsage</th>\n",
       "      <th>CustServCalls</th>\n",
       "      <th>DayMins</th>\n",
       "      <th>DayCalls</th>\n",
       "      <th>MonthlyCharge</th>\n",
       "      <th>OverageFee</th>\n",
       "      <th>RoamMins</th>\n",
       "    </tr>\n",
       "  </thead>\n",
       "  <tbody>\n",
       "    <tr>\n",
       "      <th>count</th>\n",
       "      <td>3343.000000</td>\n",
       "      <td>3166.000000</td>\n",
       "      <td>3343.000000</td>\n",
       "      <td>3174.000000</td>\n",
       "      <td>3343.000000</td>\n",
       "      <td>3175.000000</td>\n",
       "      <td>3343.000000</td>\n",
       "      <td>3343.000000</td>\n",
       "    </tr>\n",
       "    <tr>\n",
       "      <th>mean</th>\n",
       "      <td>101.084954</td>\n",
       "      <td>0.821396</td>\n",
       "      <td>1.633862</td>\n",
       "      <td>181.217297</td>\n",
       "      <td>100.369130</td>\n",
       "      <td>56.231339</td>\n",
       "      <td>10.051726</td>\n",
       "      <td>10.240114</td>\n",
       "    </tr>\n",
       "    <tr>\n",
       "      <th>std</th>\n",
       "      <td>39.783277</td>\n",
       "      <td>1.273260</td>\n",
       "      <td>2.287913</td>\n",
       "      <td>63.318038</td>\n",
       "      <td>20.144262</td>\n",
       "      <td>16.435986</td>\n",
       "      <td>2.535411</td>\n",
       "      <td>2.790750</td>\n",
       "    </tr>\n",
       "    <tr>\n",
       "      <th>min</th>\n",
       "      <td>1.000000</td>\n",
       "      <td>0.000000</td>\n",
       "      <td>0.000000</td>\n",
       "      <td>0.000000</td>\n",
       "      <td>0.000000</td>\n",
       "      <td>14.000000</td>\n",
       "      <td>0.000000</td>\n",
       "      <td>0.000000</td>\n",
       "    </tr>\n",
       "    <tr>\n",
       "      <th>25%</th>\n",
       "      <td>74.000000</td>\n",
       "      <td>0.000000</td>\n",
       "      <td>1.000000</td>\n",
       "      <td>144.000000</td>\n",
       "      <td>87.000000</td>\n",
       "      <td>45.000000</td>\n",
       "      <td>8.330000</td>\n",
       "      <td>8.500000</td>\n",
       "    </tr>\n",
       "    <tr>\n",
       "      <th>50%</th>\n",
       "      <td>101.000000</td>\n",
       "      <td>0.000000</td>\n",
       "      <td>1.000000</td>\n",
       "      <td>179.400000</td>\n",
       "      <td>101.000000</td>\n",
       "      <td>53.500000</td>\n",
       "      <td>10.070000</td>\n",
       "      <td>10.300000</td>\n",
       "    </tr>\n",
       "    <tr>\n",
       "      <th>75%</th>\n",
       "      <td>127.000000</td>\n",
       "      <td>1.810000</td>\n",
       "      <td>2.000000</td>\n",
       "      <td>216.600000</td>\n",
       "      <td>114.000000</td>\n",
       "      <td>66.000000</td>\n",
       "      <td>11.770000</td>\n",
       "      <td>12.100000</td>\n",
       "    </tr>\n",
       "    <tr>\n",
       "      <th>max</th>\n",
       "      <td>243.000000</td>\n",
       "      <td>5.400000</td>\n",
       "      <td>50.000000</td>\n",
       "      <td>1000.000000</td>\n",
       "      <td>165.000000</td>\n",
       "      <td>111.300000</td>\n",
       "      <td>18.190000</td>\n",
       "      <td>20.000000</td>\n",
       "    </tr>\n",
       "  </tbody>\n",
       "</table>\n",
       "</div>"
      ],
      "text/plain": [
       "       AccountWeeks    DataUsage  CustServCalls      DayMins     DayCalls  \\\n",
       "count   3343.000000  3166.000000    3343.000000  3174.000000  3343.000000   \n",
       "mean     101.084954     0.821396       1.633862   181.217297   100.369130   \n",
       "std       39.783277     1.273260       2.287913    63.318038    20.144262   \n",
       "min        1.000000     0.000000       0.000000     0.000000     0.000000   \n",
       "25%       74.000000     0.000000       1.000000   144.000000    87.000000   \n",
       "50%      101.000000     0.000000       1.000000   179.400000   101.000000   \n",
       "75%      127.000000     1.810000       2.000000   216.600000   114.000000   \n",
       "max      243.000000     5.400000      50.000000  1000.000000   165.000000   \n",
       "\n",
       "       MonthlyCharge   OverageFee     RoamMins  \n",
       "count    3175.000000  3343.000000  3343.000000  \n",
       "mean       56.231339    10.051726    10.240114  \n",
       "std        16.435986     2.535411     2.790750  \n",
       "min        14.000000     0.000000     0.000000  \n",
       "25%        45.000000     8.330000     8.500000  \n",
       "50%        53.500000    10.070000    10.300000  \n",
       "75%        66.000000    11.770000    12.100000  \n",
       "max       111.300000    18.190000    20.000000  "
      ]
     },
     "execution_count": 5,
     "metadata": {},
     "output_type": "execute_result"
    }
   ],
   "source": [
    "num_cols = df.select_dtypes(include=['int64', 'float64']).columns\n",
    "\n",
    "num_cols = [col for col in num_cols if df[col].nunique() > 2]\n",
    "\n",
    "df[num_cols].describe()"
   ]
  },
  {
   "cell_type": "code",
   "execution_count": 6,
   "id": "fe9b261a-bcd2-43c3-90a9-3f891dc7a900",
   "metadata": {},
   "outputs": [
    {
     "name": "stdout",
     "output_type": "stream",
     "text": [
      "\n",
      "Column: Churn\n",
      "Churn\n",
      "0    2859\n",
      "1     484\n",
      "Name: count, dtype: int64\n",
      "Churn\n",
      "0    0.85522\n",
      "1    0.14478\n",
      "Name: proportion, dtype: float64\n",
      "\n",
      "Column: ContractRenewal\n",
      "ContractRenewal\n",
      "1    3020\n",
      "0     323\n",
      "Name: count, dtype: int64\n",
      "ContractRenewal\n",
      "1    0.90338\n",
      "0    0.09662\n",
      "Name: proportion, dtype: float64\n",
      "\n",
      "Column: DataPlan\n",
      "DataPlan\n",
      "0    2419\n",
      "1     924\n",
      "Name: count, dtype: int64\n",
      "DataPlan\n",
      "0    0.723602\n",
      "1    0.276398\n",
      "Name: proportion, dtype: float64\n"
     ]
    }
   ],
   "source": [
    "binary_cols = [col for col in df.columns if df[col].nunique() == 2]\n",
    "\n",
    "for col in binary_cols:\n",
    "    print(f\"\\nColumn: {col}\")\n",
    "    print(df[col].value_counts())\n",
    "    print(df[col].value_counts(normalize=True))"
   ]
  },
  {
   "cell_type": "code",
   "execution_count": 7,
   "id": "ca7286a3-0e47-4a0e-baaa-28bfc1ab32d3",
   "metadata": {},
   "outputs": [
    {
     "data": {
      "image/png": "[encoded data removed]",
      "text/plain": [
       "<Figure size 640x480 with 1 Axes>"
      ]
     },
     "metadata": {},
     "output_type": "display_data"
    },
    {
     "data": {
      "image/png": "[encoded data removed]",
      "text/plain": [
       "<Figure size 640x480 with 1 Axes>"
      ]
     },
     "metadata": {},
     "output_type": "display_data"
    },
    {
     "data": {
      "image/png": "[encoded data removed]",
      "text/plain": [
       "<Figure size 640x480 with 1 Axes>"
      ]
     },
     "metadata": {},
     "output_type": "display_data"
    }
   ],
   "source": [
    "import seaborn as sns\n",
    "import matplotlib.pyplot as plt\n",
    "\n",
    "for col in binary_cols:\n",
    "    sns.countplot(x=col, data=df)\n",
    "    plt.title(f\"Distribution of {col}\")\n",
    "    plt.show()"
   ]
  },
  {
   "cell_type": "code",
   "execution_count": 8,
   "id": "dbef2664-1c78-4929-bc9a-1f94f4592e4a",
   "metadata": {},
   "outputs": [
    {
     "data": {
      "text/plain": [
       "Churn                0\n",
       "AccountWeeks         0\n",
       "ContractRenewal      0\n",
       "DataPlan             0\n",
       "DataUsage          177\n",
       "CustServCalls        0\n",
       "DayMins            169\n",
       "DayCalls             0\n",
       "MonthlyCharge      168\n",
       "OverageFee           0\n",
       "RoamMins             0\n",
       "dtype: int64"
      ]
     },
     "execution_count": 8,
     "metadata": {},
     "output_type": "execute_result"
    }
   ],
   "source": [
    "df.isnull().sum()"
   ]
  },
  {
   "cell_type": "code",
   "execution_count": 9,
   "id": "f9e2c55e-0e05-421f-8fcd-e85006207a45",
   "metadata": {},
   "outputs": [
    {
     "data": {
      "text/html": [
       "<div>\n",
       "<style scoped>\n",
       "    .dataframe tbody tr th:only-of-type {\n",
       "        vertical-align: middle;\n",
       "    }\n",
       "\n",
       "    .dataframe tbody tr th {\n",
       "        vertical-align: top;\n",
       "    }\n",
       "\n",
       "    .dataframe thead th {\n",
       "        text-align: right;\n",
       "    }\n",
       "</style>\n",
       "<table border=\"1\" class=\"dataframe\">\n",
       "  <thead>\n",
       "    <tr style=\"text-align: right;\">\n",
       "      <th></th>\n",
       "      <th>Q1</th>\n",
       "      <th>Q3</th>\n",
       "      <th>IQR</th>\n",
       "      <th>Lower</th>\n",
       "      <th>Upper</th>\n",
       "      <th>Num_Outliers</th>\n",
       "      <th>Pct_Outliers</th>\n",
       "    </tr>\n",
       "  </thead>\n",
       "  <tbody>\n",
       "    <tr>\n",
       "      <th>AccountWeeks</th>\n",
       "      <td>74.00</td>\n",
       "      <td>127.00</td>\n",
       "      <td>53.00</td>\n",
       "      <td>-5.500</td>\n",
       "      <td>206.500</td>\n",
       "      <td>18.0</td>\n",
       "      <td>0.54</td>\n",
       "    </tr>\n",
       "    <tr>\n",
       "      <th>DataUsage</th>\n",
       "      <td>0.00</td>\n",
       "      <td>1.81</td>\n",
       "      <td>1.81</td>\n",
       "      <td>-2.715</td>\n",
       "      <td>4.525</td>\n",
       "      <td>8.0</td>\n",
       "      <td>0.24</td>\n",
       "    </tr>\n",
       "    <tr>\n",
       "      <th>CustServCalls</th>\n",
       "      <td>1.00</td>\n",
       "      <td>2.00</td>\n",
       "      <td>1.00</td>\n",
       "      <td>-0.500</td>\n",
       "      <td>3.500</td>\n",
       "      <td>273.0</td>\n",
       "      <td>8.17</td>\n",
       "    </tr>\n",
       "    <tr>\n",
       "      <th>DayMins</th>\n",
       "      <td>144.00</td>\n",
       "      <td>216.60</td>\n",
       "      <td>72.60</td>\n",
       "      <td>35.100</td>\n",
       "      <td>325.500</td>\n",
       "      <td>30.0</td>\n",
       "      <td>0.90</td>\n",
       "    </tr>\n",
       "    <tr>\n",
       "      <th>DayCalls</th>\n",
       "      <td>87.00</td>\n",
       "      <td>114.00</td>\n",
       "      <td>27.00</td>\n",
       "      <td>46.500</td>\n",
       "      <td>154.500</td>\n",
       "      <td>24.0</td>\n",
       "      <td>0.72</td>\n",
       "    </tr>\n",
       "    <tr>\n",
       "      <th>MonthlyCharge</th>\n",
       "      <td>45.00</td>\n",
       "      <td>66.00</td>\n",
       "      <td>21.00</td>\n",
       "      <td>13.500</td>\n",
       "      <td>97.500</td>\n",
       "      <td>35.0</td>\n",
       "      <td>1.05</td>\n",
       "    </tr>\n",
       "    <tr>\n",
       "      <th>OverageFee</th>\n",
       "      <td>8.33</td>\n",
       "      <td>11.77</td>\n",
       "      <td>3.44</td>\n",
       "      <td>3.170</td>\n",
       "      <td>16.930</td>\n",
       "      <td>24.0</td>\n",
       "      <td>0.72</td>\n",
       "    </tr>\n",
       "    <tr>\n",
       "      <th>RoamMins</th>\n",
       "      <td>8.50</td>\n",
       "      <td>12.10</td>\n",
       "      <td>3.60</td>\n",
       "      <td>3.100</td>\n",
       "      <td>17.500</td>\n",
       "      <td>46.0</td>\n",
       "      <td>1.38</td>\n",
       "    </tr>\n",
       "  </tbody>\n",
       "</table>\n",
       "</div>"
      ],
      "text/plain": [
       "                   Q1      Q3    IQR   Lower    Upper  Num_Outliers  \\\n",
       "AccountWeeks    74.00  127.00  53.00  -5.500  206.500          18.0   \n",
       "DataUsage        0.00    1.81   1.81  -2.715    4.525           8.0   \n",
       "CustServCalls    1.00    2.00   1.00  -0.500    3.500         273.0   \n",
       "DayMins        144.00  216.60  72.60  35.100  325.500          30.0   \n",
       "DayCalls        87.00  114.00  27.00  46.500  154.500          24.0   \n",
       "MonthlyCharge   45.00   66.00  21.00  13.500   97.500          35.0   \n",
       "OverageFee       8.33   11.77   3.44   3.170   16.930          24.0   \n",
       "RoamMins         8.50   12.10   3.60   3.100   17.500          46.0   \n",
       "\n",
       "               Pct_Outliers  \n",
       "AccountWeeks           0.54  \n",
       "DataUsage              0.24  \n",
       "CustServCalls          8.17  \n",
       "DayMins                0.90  \n",
       "DayCalls               0.72  \n",
       "MonthlyCharge          1.05  \n",
       "OverageFee             0.72  \n",
       "RoamMins               1.38  "
      ]
     },
     "execution_count": 9,
     "metadata": {},
     "output_type": "execute_result"
    }
   ],
   "source": [
    "outliers_summary = {}\n",
    "\n",
    "for col in num_cols:\n",
    "    Q1 = df[col].quantile(0.25)\n",
    "    Q3 = df[col].quantile(0.75)\n",
    "    IQR = Q3 - Q1\n",
    "    lower = Q1 - 1.5 * IQR\n",
    "    upper = Q3 + 1.5 * IQR\n",
    "\n",
    "    outliers = df[(df[col] < lower) | (df[col] > upper)][col]\n",
    "    outliers_summary[col] = {\n",
    "        \"Q1\": Q1, \"Q3\": Q3, \"IQR\": IQR,\n",
    "        \"Lower\": lower, \"Upper\": upper,\n",
    "        \"Num_Outliers\": outliers.shape[0],\n",
    "        \"Pct_Outliers\": round(outliers.shape[0] / df.shape[0] * 100, 2)\n",
    "    }\n",
    "\n",
    "pd.DataFrame(outliers_summary).T"
   ]
  },
  {
   "cell_type": "code",
   "execution_count": null,
   "id": "0e882816-ef49-4ee8-8e84-4cae492e12ed",
   "metadata": {},
   "outputs": [],
   "source": [
    "cols_to_check = ['CustServCalls', 'DayMins', 'MonthlyCharge', 'RoamMins']\n",
    "\n",
    "for col in cols_to_check:\n",
    "    plt.figure(figsize=(8,4))\n",
    "    sns.boxplot(x=df[col])\n",
    "    plt.title(f\"Boxplot of {col}\")\n",
    "    plt.show()"
   ]
  }
 ],
 "metadata": {
  "kernelspec": {
   "display_name": "Python 3 (ipykernel)",
   "language": "python",
   "name": "python3"
  },
  "language_info": {
   "codemirror_mode": {
    "name": "ipython",
    "version": 3
   },
   "file_extension": ".py",
   "mimetype": "text/x-python",
   "name": "python",
   "nbconvert_exporter": "python",
   "pygments_lexer": "ipython3",
   "version": "3.12.6"
  }
 },
 "nbformat": 4,
 "nbformat_minor": 5
}
